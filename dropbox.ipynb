{
 "metadata": {
  "language_info": {
   "codemirror_mode": {
    "name": "ipython",
    "version": 3
   },
   "file_extension": ".py",
   "mimetype": "text/x-python",
   "name": "python",
   "nbconvert_exporter": "python",
   "pygments_lexer": "ipython3",
   "version": "3.9.2"
  },
  "orig_nbformat": 2,
  "kernelspec": {
   "name": "python392jvsc74a57bd0aee8b7b246df8f9039afb4144a1f6fd8d2ca17a180786b69acc140d282b71a49",
   "display_name": "Python 3.9.2 64-bit"
  }
 },
 "nbformat": 4,
 "nbformat_minor": 2,
 "cells": [
  {
   "cell_type": "code",
   "execution_count": 42,
   "metadata": {},
   "outputs": [
    {
     "output_type": "execute_result",
     "data": {
      "text/plain": [
       "True"
      ]
     },
     "metadata": {},
     "execution_count": 42
    }
   ],
   "source": [
    "from selenium import webdriver\n",
    "from selenium.webdriver.common.keys import Keys\n",
    "from dotenv import load_dotenv\n",
    "import requests, time, pprint\n",
    "import os\n",
    "\n",
    "load_dotenv()"
   ]
  },
  {
   "cell_type": "code",
   "execution_count": 43,
   "metadata": {},
   "outputs": [],
   "source": [
    "PATH = '/usr/local/bin/chromedriver'\n",
    "driver = webdriver.Chrome(PATH)\n",
    "username = os.getenv('username')\n",
    "password = os.getenv('password')"
   ]
  },
  {
   "cell_type": "code",
   "execution_count": 44,
   "metadata": {},
   "outputs": [],
   "source": [
    "driver.get('https://dropbox.com/login')\n",
    "time.sleep(1)"
   ]
  },
  {
   "cell_type": "code",
   "execution_count": 45,
   "metadata": {},
   "outputs": [],
   "source": [
    "driver.find_element_by_xpath('/html/body/div[12]/div[1]/div[2]/div/div/div[1]/div[2]/div/div/div/form/div[1]/div[1]/div[2]/input').click()\n",
    "time.sleep(.5)\n",
    "driver.find_element_by_xpath('/html/body/div[12]/div[1]/div[2]/div/div/div[1]/div[2]/div/div/div/form/div[1]/div[1]/div[2]/input').send_keys(username)\n",
    "time.sleep(.25)\n",
    "driver.find_element_by_xpath('/html/body/div[12]/div[1]/div[2]/div/div/div[1]/div[2]/div/div/div/form/div[1]/div[2]/div[2]/input').click()\n",
    "time.sleep(.5)\n",
    "driver.find_element_by_xpath('/html/body/div[12]/div[1]/div[2]/div/div/div[1]/div[2]/div/div/div/form/div[1]/div[2]/div[2]/input').send_keys(password)\n",
    "time.sleep(.25)\n",
    "driver.find_element_by_xpath('/html/body/div[12]/div[1]/div[2]/div/div/div[1]/div[2]/div/div/div/form/div[2]/button').click()\n",
    "time.sleep(10)"
   ]
  },
  {
   "cell_type": "code",
   "execution_count": 46,
   "metadata": {},
   "outputs": [],
   "source": [
    "driver.close()"
   ]
  }
 ]
}